{
  "nbformat": 4,
  "nbformat_minor": 0,
  "metadata": {
    "colab": {
      "provenance": [],
      "authorship_tag": "ABX9TyMM1j7gVcNIj5zC/ez7lece",
      "include_colab_link": true
    },
    "kernelspec": {
      "name": "python3",
      "display_name": "Python 3"
    },
    "language_info": {
      "name": "python"
    }
  },
  "cells": [
    {
      "cell_type": "markdown",
      "metadata": {
        "id": "view-in-github",
        "colab_type": "text"
      },
      "source": [
        "<a href=\"https://colab.research.google.com/github/shriya2323/AI_CIA/blob/main/alpha_beta_pruning.ipynb\" target=\"_parent\"><img src=\"https://colab.research.google.com/assets/colab-badge.svg\" alt=\"Open In Colab\"/></a>"
      ]
    },
    {
      "cell_type": "code",
      "execution_count": null,
      "metadata": {
        "colab": {
          "base_uri": "https://localhost:8080/"
        },
        "id": "esvx9q9SLmh9",
        "outputId": "814054e2-dacc-4253-f643-e5af7fb93bf8"
      },
      "outputs": [
        {
          "output_type": "stream",
          "name": "stdout",
          "text": [
            "Maximizer at depth 0\n",
            "Minimizer at depth 1\n",
            "Maximizer at depth 2\n",
            "Leaf node reached at depth 3, returning value: 3\n",
            "Maximizer at depth 2, comparing value: 3 with best: -inf\n",
            "Leaf node reached at depth 3, returning value: 5\n",
            "Maximizer at depth 2, comparing value: 5 with best: 3\n",
            "Maximizer at depth 2, selected best: 5\n",
            "Minimizer at depth 1, comparing value: 5 with best: inf\n",
            "Maximizer at depth 2\n",
            "Leaf node reached at depth 3, returning value: 6\n",
            "Maximizer at depth 2, comparing value: 6 with best: -inf\n",
            "Leaf node reached at depth 3, returning value: 9\n",
            "Maximizer at depth 2, comparing value: 9 with best: 6\n",
            "Maximizer at depth 2, selected best: 9\n",
            "Minimizer at depth 1, comparing value: 9 with best: 5\n",
            "Minimizer at depth 1, selected best: 5\n",
            "Maximizer at depth 0, comparing value: 5 with best: -inf\n",
            "Minimizer at depth 1\n",
            "Maximizer at depth 2\n",
            "Leaf node reached at depth 3, returning value: 1\n",
            "Maximizer at depth 2, comparing value: 1 with best: -inf\n",
            "Leaf node reached at depth 3, returning value: 2\n",
            "Maximizer at depth 2, comparing value: 2 with best: 1\n",
            "Maximizer at depth 2, selected best: 2\n",
            "Minimizer at depth 1, comparing value: 2 with best: inf\n",
            "Maximizer at depth 2\n",
            "Leaf node reached at depth 3, returning value: 0\n",
            "Maximizer at depth 2, comparing value: 0 with best: -inf\n",
            "Leaf node reached at depth 3, returning value: -1\n",
            "Maximizer at depth 2, comparing value: -1 with best: 0\n",
            "Maximizer at depth 2, selected best: 0\n",
            "Minimizer at depth 1, comparing value: 0 with best: 2\n",
            "Minimizer at depth 1, selected best: 0\n",
            "Maximizer at depth 0, comparing value: 0 with best: 5\n",
            "Maximizer at depth 0, selected best: 5\n",
            "\n",
            "Optimal value determined by Minimax: 5\n"
          ]
        }
      ],
      "source": [
        "import math\n",
        "\n",
        "def minimax(depth, nodeIndex, isMaximizingPlayer, values, maxDepth):\n",
        "    # Base case: leaf node\n",
        "    if depth == maxDepth:\n",
        "        print(f\"Leaf node reached at depth {depth}, returning value: {values[nodeIndex]}\")\n",
        "        return values[nodeIndex]\n",
        "\n",
        "    if isMaximizingPlayer:\n",
        "        best = -math.inf\n",
        "        print(f\"Maximizer at depth {depth}\")\n",
        "        # Maximizer's move\n",
        "        for i in range(2):\n",
        "            value = minimax(depth + 1, nodeIndex * 2 + i, False, values, maxDepth)\n",
        "            print(f\"Maximizer at depth {depth}, comparing value: {value} with best: {best}\")\n",
        "            best = max(best, value)\n",
        "        print(f\"Maximizer at depth {depth}, selected best: {best}\")\n",
        "        return best\n",
        "    else:\n",
        "        best = math.inf\n",
        "        print(f\"Minimizer at depth {depth}\")\n",
        "        # Minimizer's move\n",
        "        for i in range(2):\n",
        "            value = minimax(depth + 1, nodeIndex * 2 + i, True, values, maxDepth)\n",
        "            print(f\"Minimizer at depth {depth}, comparing value: {value} with best: {best}\")\n",
        "            best = min(best, value)\n",
        "        print(f\"Minimizer at depth {depth}, selected best: {best}\")\n",
        "        return best\n",
        "\n",
        "# Test values for the leaves of the game tree\n",
        "values = [3, 5, 6, 9, 1, 2, 0, -1]\n",
        "\n",
        "# Calculate max depth (assuming a complete binary tree)\n",
        "maxDepth = math.log2(len(values))\n",
        "\n",
        "# Start the minimax algorithm from the root (depth 0, nodeIndex 0) with the maximizing player\n",
        "result = minimax(0, 0, True, values, int(maxDepth))\n",
        "\n",
        "# Output the result of the minimax algorithm\n",
        "print(f\"\\nOptimal value determined by Minimax: {result}\")\n"
      ]
    }
  ]
}